{
 "cells": [
  {
   "cell_type": "code",
   "execution_count": 1,
   "metadata": {},
   "outputs": [],
   "source": [
    "import pandas as pd\n",
    "import numpy as np"
   ]
  },
  {
   "cell_type": "code",
   "execution_count": 2,
   "metadata": {},
   "outputs": [],
   "source": [
    "## Estreses simples T4\n",
    "C = pd.read_csv('D://TFM/LLUIS/Results/03-archivos_cuentas_txt/T4/C.txt', sep = '\\t')\n",
    "D = pd.read_csv('D://TFM/LLUIS/Results/03-archivos_cuentas_txt/T4/D.txt', sep = '\\t')\n",
    "SA = pd.read_csv('D://TFM/LLUIS/Results/03-archivos_cuentas_txt/T4/SA.txt', sep = '\\t')\n",
    "SD = pd.read_csv('D://TFM/LLUIS/Results/03-archivos_cuentas_txt/T4/SD.txt', sep = '\\t')\n",
    "MON = pd.read_csv('D://TFM/LLUIS/Results/03-archivos_cuentas_txt/T4/MON.txt', sep = '\\t')\n",
    "\n",
    "## Estreses dobles y el triple T4\n",
    "C_D = pd.read_csv('D://TFM/LLUIS/Results/03-archivos_cuentas_txt/T4/C.D.txt', sep = '\\t')\n",
    "C_SA_SD = pd.read_csv('D://TFM/LLUIS/Results/03-archivos_cuentas_txt/T4/C.SA.SD.txt', sep = '\\t')\n",
    "C_SA = pd.read_csv('D://TFM/LLUIS/Results/03-archivos_cuentas_txt/T4/C.SA.txt', sep = '\\t')\n",
    "C_SD = pd.read_csv('D://TFM/LLUIS/Results/03-archivos_cuentas_txt/T4/C.SD.txt', sep = '\\t')\n",
    "D_MON = pd.read_csv('D://TFM/LLUIS/Results/03-archivos_cuentas_txt/T4/D.MON.txt', sep = '\\t')\n",
    "D_SA = pd.read_csv('D://TFM/LLUIS/Results/03-archivos_cuentas_txt/T4/D.SA.txt', sep = '\\t')"
   ]
  },
  {
   "cell_type": "code",
   "execution_count": 3,
   "metadata": {},
   "outputs": [],
   "source": [
    "### list of file names:\n",
    "stresses_list_names = ['C', 'C_D', 'C_SA_SD', 'C_SA', 'C_SD', 'D', 'D_MON', 'D_SA', 'SA', 'SD', 'MON']"
   ]
  },
  {
   "cell_type": "code",
   "execution_count": 4,
   "metadata": {},
   "outputs": [],
   "source": [
    "### list of file names:\n",
    "stresses_list = [C, C_D, C_SA_SD, C_SA, C_SD, D, D_MON, D_SA, SA, SD, MON]"
   ]
  },
  {
   "cell_type": "code",
   "execution_count": 5,
   "metadata": {},
   "outputs": [],
   "source": [
    "### Adding data from simple, double and triple stresses\n",
    "\"\"\" I need to add 39 columns (3 replicates per each stress condition, i.e. 7 simple stresses,\n",
    "5 double and 1 triple stresses). \n",
    "\"\"\"\n",
    "i = 0\n",
    "tmp_df = stresses_list[i]\n",
    "while i < len(stresses_list)-1:\n",
    "    tmp_df = pd.merge(tmp_df, stresses_list[i+1], how = 'outer')\n",
    "    i += 1"
   ]
  },
  {
   "cell_type": "code",
   "execution_count": 6,
   "metadata": {},
   "outputs": [
    {
     "data": {
      "text/plain": [
       "(760564, 38)"
      ]
     },
     "execution_count": 6,
     "metadata": {},
     "output_type": "execute_result"
    }
   ],
   "source": [
    "np.shape(tmp_df)"
   ]
  },
  {
   "cell_type": "code",
   "execution_count": 7,
   "metadata": {},
   "outputs": [],
   "source": [
    "mean_ctrl = tmp_df.iloc[:,1:5]\n",
    "subset_stress_list = [mean_ctrl]\n",
    "\n",
    "for name in stresses_list_names:\n",
    "    i = stresses_list_names.index(name)\n",
    "    index = 3 * stresses_list_names.index(name) ## 3 times, since there are three replicates per sample.\n",
    "    subset_stress = tmp_df.iloc[:, index + 5 : index + 8]\n",
    "    subset_stress_list.append(subset_stress)"
   ]
  },
  {
   "cell_type": "code",
   "execution_count": 8,
   "metadata": {},
   "outputs": [],
   "source": [
    "### 4 control samples\n",
    "tmp_df.insert(loc = 5, column= 'MEAN-CONTROL',\n",
    "                 value = mean_ctrl.mean(axis = 1))"
   ]
  },
  {
   "cell_type": "code",
   "execution_count": 9,
   "metadata": {},
   "outputs": [
    {
     "name": "stdout",
     "output_type": "stream",
     "text": [
      "C\n",
      "C_D\n",
      "C_SA_SD\n",
      "C_SA\n",
      "C_SD\n",
      "D\n",
      "D_MON\n",
      "D_SA\n",
      "SA\n",
      "SD\n",
      "MON\n"
     ]
    }
   ],
   "source": [
    "index = 6\n",
    "i = 0\n",
    "for j in subset_stress_list[1:]: # Without Control \n",
    "    tmp_df.insert(loc = index + 3, column= 'MEAN-%s' %stresses_list_names[i],\n",
    "                 value = j.mean(axis = 1))\n",
    "    print(stresses_list_names[i])\n",
    "    index += 4\n",
    "    i += 1"
   ]
  },
  {
   "cell_type": "code",
   "execution_count": 10,
   "metadata": {},
   "outputs": [],
   "source": [
    "all_counts = tmp_df"
   ]
  },
  {
   "cell_type": "markdown",
   "metadata": {},
   "source": [
    "## Open the differentially expressed sRNA file"
   ]
  },
  {
   "cell_type": "code",
   "execution_count": 11,
   "metadata": {},
   "outputs": [],
   "source": [
    "diff_exp_srnas = pd.read_csv('D://TFM/LLUIS/Analysis/08-miRNA_antagonism/diff_exp_edge+DeSeq+NoiSeq.txt', sep = '\\t')"
   ]
  },
  {
   "cell_type": "code",
   "execution_count": 12,
   "metadata": {
    "scrolled": true
   },
   "outputs": [],
   "source": [
    "#prec_cmelo = pd.read_csv('D://TFM/LLUIS/Results/08-sRNA_hairpin_alignment/tablas/miRNAs_precursors/miRNA_cmelo.csv', sep = ',')\n",
    "\n",
    "#prec_viri = pd.read_csv('D://TFM/LLUIS/Results/08-sRNA_hairpin_alignment/tablas/miRNAs_precursors/miRNA_viri.csv', sep = ',')\n",
    "\n",
    "#prec_1515_6478 = pd.read_csv('D://TFM/LLUIS/Results/08-sRNA_hairpin_alignment/tablas/miRNAs_precursors/miRNA_1515_6478.csv', sep = ',')\n",
    "#prec_1515_6478 = prec_1515_6478.iloc[:,0:5]\n",
    "\n",
    "#pd.merge(prec_viri, prec_cmelo, how = 'outer')"
   ]
  },
  {
   "cell_type": "code",
   "execution_count": 13,
   "metadata": {},
   "outputs": [],
   "source": [
    "# Inserts the miRNA id\n",
    "diff_exp_srnas.insert(value=list(diff_exp_srnas.index), loc = 0, column='miRNA_name')"
   ]
  },
  {
   "cell_type": "markdown",
   "metadata": {},
   "source": [
    "## merge both files"
   ]
  },
  {
   "cell_type": "code",
   "execution_count": 14,
   "metadata": {},
   "outputs": [],
   "source": [
    "merged_table = pd.merge(all_counts, diff_exp_srnas, how = 'inner')"
   ]
  },
  {
   "cell_type": "code",
   "execution_count": 15,
   "metadata": {},
   "outputs": [
    {
     "data": {
      "text/plain": [
       "Index(['sRNA', 'CONTROL-2', 'CONTROL-3', 'CONTROL-4', 'CONTROL-5',\n",
       "       'MEAN-CONTROL', 'C-1', 'C-2', 'C-3', 'MEAN-C', 'C.D-1', 'C.D-2',\n",
       "       'C.D-3', 'MEAN-C_D', 'C.SA.SD-1', 'C.SA.SD-2', 'C.SA.SD-3',\n",
       "       'MEAN-C_SA_SD', 'C.SA-1', 'C.SA-2', 'C.SA-3', 'MEAN-C_SA', 'C.SD-1',\n",
       "       'C.SD-2', 'C.SD-3', 'MEAN-C_SD', 'D-1', 'D-2', 'D-3', 'MEAN-D',\n",
       "       'D.MON-1', 'D.MON-2', 'D.MON-3', 'MEAN-D_MON', 'D.SA-1', 'D.SA-2',\n",
       "       'D.SA-3', 'MEAN-D_SA', 'SA-1', 'SA-2', 'SA-3', 'MEAN-SA', 'SD-1',\n",
       "       'SD-2', 'SD-3', 'MEAN-SD', 'MON-1', 'MON-2', 'MON-3', 'MEAN-MON',\n",
       "       'miRNA_name', 'C.SD', 'C.SA.SD', 'C.SA', 'C.D', 'C', 'D.MON', 'D.SA',\n",
       "       'SA', 'SD', 'D', 'MON'],\n",
       "      dtype='object')"
      ]
     },
     "execution_count": 15,
     "metadata": {},
     "output_type": "execute_result"
    }
   ],
   "source": [
    "# Drop \n",
    "merged_table.columns"
   ]
  },
  {
   "cell_type": "code",
   "execution_count": 16,
   "metadata": {},
   "outputs": [],
   "source": [
    "merged_table.drop(axis = 1, labels= merged_table.columns[np.arange(51,62)], inplace=True)"
   ]
  },
  {
   "cell_type": "code",
   "execution_count": 17,
   "metadata": {},
   "outputs": [],
   "source": [
    "merged_table.set_index(keys = 'miRNA_name', inplace= True)"
   ]
  },
  {
   "cell_type": "markdown",
   "metadata": {},
   "source": [
    "## Calculate the standard deviations"
   ]
  },
  {
   "cell_type": "code",
   "execution_count": 18,
   "metadata": {},
   "outputs": [
    {
     "name": "stdout",
     "output_type": "stream",
     "text": [
      "C_std\n",
      "C_D_std\n",
      "C_SA_SD_std\n",
      "C_SA_std\n",
      "C_SD_std\n",
      "D_std\n",
      "D_MON_std\n",
      "D_SA_std\n",
      "SA_std\n",
      "SD_std\n",
      "MON_std\n"
     ]
    }
   ],
   "source": [
    "control_std = np.std(a=merged_table.iloc[:,1:5], axis = 1) # std by row\n",
    "index = 7\n",
    "\n",
    "dictionary={}\n",
    "dictionary['control_std'] = control_std\n",
    "for stress in stresses_list_names:\n",
    "    name = str('%s_std' %stress)\n",
    "    dictionary[name] = np.std(a=merged_table.iloc[:,index:index+3], axis = 1) \n",
    "    print(name)\n",
    "    index += 4"
   ]
  },
  {
   "cell_type": "code",
   "execution_count": 19,
   "metadata": {},
   "outputs": [
    {
     "name": "stdout",
     "output_type": "stream",
     "text": [
      "2\n",
      "4\n",
      "6\n",
      "8\n",
      "10\n",
      "12\n",
      "14\n",
      "16\n",
      "18\n",
      "20\n",
      "22\n"
     ]
    }
   ],
   "source": [
    "final_table = merged_table.copy()\n",
    "\n",
    "final_table.drop(axis = 1, labels = final_table.columns[np.arange(1,5)], inplace = True) # Eliminates Control counts\n",
    "final_table.insert(loc = 2, column = 'STDEV-CONTROL', value = dictionary['control_std'])\n",
    "index = 0\n",
    "\n",
    "for key in list(dictionary.keys())[1:]:\n",
    "    final_table.drop(axis = 1, labels = final_table.columns[np.arange(3+index,6+index)], inplace = True) # Eliminates counts\n",
    "    final_table.insert(loc = 4 + index, column = 'STDEV-%s' %key[:-4], value = dictionary[key])\n",
    "    index += 2\n",
    "    print(index)"
   ]
  },
  {
   "cell_type": "code",
   "execution_count": 20,
   "metadata": {},
   "outputs": [],
   "source": [
    "final_table = final_table.fillna(0)"
   ]
  },
  {
   "cell_type": "code",
   "execution_count": 21,
   "metadata": {},
   "outputs": [],
   "source": [
    "final_table.to_excel('D://TFM/LLUIS/Results/10-antagonismo/miRNA_antagonism_strict.xlsx')"
   ]
  },
  {
   "cell_type": "code",
   "execution_count": null,
   "metadata": {},
   "outputs": [],
   "source": []
  }
 ],
 "metadata": {
  "kernelspec": {
   "display_name": "Python 3",
   "language": "python",
   "name": "python3"
  },
  "language_info": {
   "codemirror_mode": {
    "name": "ipython",
    "version": 3
   },
   "file_extension": ".py",
   "mimetype": "text/x-python",
   "name": "python",
   "nbconvert_exporter": "python",
   "pygments_lexer": "ipython3",
   "version": "3.7.4"
  }
 },
 "nbformat": 4,
 "nbformat_minor": 2
}
